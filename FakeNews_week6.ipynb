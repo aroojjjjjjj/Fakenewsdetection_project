{
  "nbformat": 4,
  "nbformat_minor": 0,
  "metadata": {
    "colab": {
      "provenance": []
    },
    "kernelspec": {
      "name": "python3",
      "display_name": "Python 3"
    },
    "language_info": {
      "name": "python"
    }
  },
  "cells": [
    {
      "cell_type": "code",
      "execution_count": 2,
      "metadata": {
        "id": "K_a0QbvEO2OU"
      },
      "outputs": [],
      "source": [
        "import pandas as pd\n",
        "from sklearn.model_selection import train_test_split\n",
        "from sklearn.linear_model import LogisticRegression\n",
        "from sklearn.ensemble import RandomForestClassifier\n",
        "from sklearn.metrics import accuracy_score\n",
        "\n",
        "df = pd.read_csv(\"FakeNews_Cleaned.csv\")\n",
        "\n",
        "df['text_length'] = df['text'].apply(len)\n",
        "\n",
        "df['label_num'] = df['label'].map({'real': 1, 'fake': 0})\n",
        "\n",
        "X = df[['text_length']]\n",
        "y = df['label_num']\n"
      ]
    },
    {
      "cell_type": "code",
      "source": [
        "X_train, X_test, y_train, y_test = train_test_split(\n",
        "    X, y, test_size=0.2, random_state=42\n",
        ")\n",
        "\n",
        "print(\"Training size:\", len(X_train))\n",
        "print(\"Testing size:\", len(X_test))\n"
      ],
      "metadata": {
        "colab": {
          "base_uri": "https://localhost:8080/"
        },
        "id": "qK18D0QvPk_4",
        "outputId": "81a35a9e-e8e4-497f-8d36-ad0d23024ef0"
      },
      "execution_count": 3,
      "outputs": [
        {
          "output_type": "stream",
          "name": "stdout",
          "text": [
            "Training size: 1741\n",
            "Testing size: 436\n"
          ]
        }
      ]
    },
    {
      "cell_type": "code",
      "source": [
        "log_reg = LogisticRegression()\n",
        "log_reg.fit(X_train, y_train)\n",
        "\n",
        "y_pred_log = log_reg.predict(X_test)\n",
        "acc_log = accuracy_score(y_test, y_pred_log)\n",
        "\n",
        "print(\"Logistic Regression Accuracy:\", acc_log)\n"
      ],
      "metadata": {
        "colab": {
          "base_uri": "https://localhost:8080/"
        },
        "id": "fxgd_8YLPq1Q",
        "outputId": "3d18f745-b367-42f9-d696-0628ac048f17"
      },
      "execution_count": 4,
      "outputs": [
        {
          "output_type": "stream",
          "name": "stdout",
          "text": [
            "Logistic Regression Accuracy: 0.5068807339449541\n"
          ]
        }
      ]
    },
    {
      "cell_type": "code",
      "source": [
        "rf = RandomForestClassifier(n_estimators=100, random_state=42)\n",
        "rf.fit(X_train, y_train)\n",
        "\n",
        "y_pred_rf = rf.predict(X_test)\n",
        "acc_rf = accuracy_score(y_test, y_pred_rf)\n",
        "\n",
        "print(\"Random Forest Accuracy:\", acc_rf)\n"
      ],
      "metadata": {
        "colab": {
          "base_uri": "https://localhost:8080/"
        },
        "id": "-XFlRJjFPygi",
        "outputId": "a7781e65-a82d-403d-9b57-d4422506ee45"
      },
      "execution_count": 5,
      "outputs": [
        {
          "output_type": "stream",
          "name": "stdout",
          "text": [
            "Random Forest Accuracy: 0.47477064220183485\n"
          ]
        }
      ]
    },
    {
      "cell_type": "code",
      "source": [
        "print(\"\\nComparison of Models:\")\n",
        "print(f\"Logistic Regression: {acc_log:.4f}\")\n",
        "print(f\"Random Forest: {acc_rf:.4f}\")\n"
      ],
      "metadata": {
        "colab": {
          "base_uri": "https://localhost:8080/"
        },
        "id": "m8Mi8ndgP5_t",
        "outputId": "297e528f-9654-43b8-d1b3-bc1b234a8b8b"
      },
      "execution_count": 6,
      "outputs": [
        {
          "output_type": "stream",
          "name": "stdout",
          "text": [
            "\n",
            "Comparison of Models:\n",
            "Logistic Regression: 0.5069\n",
            "Random Forest: 0.4748\n"
          ]
        }
      ]
    }
  ]
}